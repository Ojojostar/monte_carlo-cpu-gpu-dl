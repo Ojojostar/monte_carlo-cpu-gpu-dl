{
 "cells": [
  {
   "cell_type": "code",
   "execution_count": 1,
   "metadata": {},
   "outputs": [],
   "source": [
    "import torch\n",
    "from torch import nn\n",
    "from torch.utils.data import DataLoader\n",
    "from torchvision import datasets\n",
    "from torchvision.transforms import ToTensor"
   ]
  },
  {
   "cell_type": "markdown",
   "metadata": {},
   "source": [
    "inporting data\n",
    "### improting data :devil:\n"
   ]
  },
  {
   "cell_type": "code",
   "execution_count": 46,
   "metadata": {},
   "outputs": [],
   "source": [
    "training_data = datasets.FashionMNIST(\n",
    "    root= \"data\",\n",
    "    train=True,\n",
    "    download=True,\n",
    "    transform=ToTensor()\n",
    ")\n",
    "\n",
    "test_data = datasets.FashionMNIST(\n",
    "    root=\"data\",\n",
    "    train=False,\n",
    "    transform=ToTensor(),\n",
    "    download=True\n",
    ")"
   ]
  },
  {
   "cell_type": "code",
   "execution_count": 47,
   "metadata": {},
   "outputs": [
    {
     "name": "stdout",
     "output_type": "stream",
     "text": [
      "Shape of X [N, C, H, W]: torch.Size([64, 1, 28, 28])\n",
      "Shape of y: torch.Size([64]) torch.int64\n"
     ]
    }
   ],
   "source": [
    "batch_size =  64\n",
    "\n",
    "train_dataloader = DataLoader(training_data, batch_size=batch_size)\n",
    "test_dataloader = DataLoader(test_data, batch_size=batch_size)\n",
    "for X,y in test_dataloader:\n",
    "    print(f\"Shape of X [N, C, H, W]: {X.shape}\")\n",
    "    print(f\"Shape of y: {y.shape} {y.dtype}\")\n",
    "    break"
   ]
  },
  {
   "cell_type": "code",
   "execution_count": 48,
   "metadata": {},
   "outputs": [
    {
     "name": "stdout",
     "output_type": "stream",
     "text": [
      "using cuda device\n"
     ]
    }
   ],
   "source": [
    "device = (\n",
    "    \"cuda\"\n",
    "    if torch.cuda.is_available()\n",
    "    else \"mps\"\n",
    "    if torch.backends.mps.is_available()\n",
    "    else \"cpu\" \n",
    ")\n",
    "print(\"using\", device,\"device\")"
   ]
  },
  {
   "cell_type": "code",
   "execution_count": 49,
   "metadata": {},
   "outputs": [
    {
     "name": "stdout",
     "output_type": "stream",
     "text": [
      "NN(\n",
      "  (flatten): Flatten(start_dim=1, end_dim=-1)\n",
      "  (linear_relu_stack): Sequential(\n",
      "    (0): Linear(in_features=784, out_features=512, bias=True)\n",
      "    (1): ReLU()\n",
      "    (2): Linear(in_features=512, out_features=512, bias=True)\n",
      "    (3): ReLU()\n",
      "    (4): Linear(in_features=512, out_features=10, bias=True)\n",
      "  )\n",
      ")\n"
     ]
    }
   ],
   "source": [
    "class NN(nn.Module ):\n",
    "    def __init__(self):\n",
    "        super().__init__()\n",
    "        self.flatten = nn.Flatten()     # flatten turns torch.Size([64, 1, 28, 28]) to [64,28*28]\n",
    "        self.linear_relu_stack = nn.Sequential(\n",
    "            nn.Linear(28*28,512),\n",
    "            nn.ReLU(),\n",
    "            nn.Linear(512,512),\n",
    "            nn.ReLU(),\n",
    "            nn.Linear(512,10)\n",
    "        )\n",
    "    def forward(self, x):\n",
    "        x = self.flatten(x)\n",
    "        logits = self.linear_relu_stack(x)\n",
    "        return logits\n",
    "\n",
    "model = NN().to(device)\n",
    "print(model)"
   ]
  },
  {
   "cell_type": "code",
   "execution_count": 50,
   "metadata": {},
   "outputs": [],
   "source": [
    "loss_fn = nn.CrossEntropyLoss()\n",
    "optimizer = torch.optim.SGD(model.parameters(), lr=1e-3)\n",
    "# print(model.parameters())"
   ]
  },
  {
   "cell_type": "code",
   "execution_count": 51,
   "metadata": {},
   "outputs": [],
   "source": [
    "def train(dataloader, model, loss_fn, optimizer):\n",
    "    size = len(dataloader.dataset)\n",
    "    model.train()\n",
    "    for batch, (X, y) in enumerate(dataloader):\n",
    "        X, y = X.to(device), y.to(device)\n",
    "\n",
    "        # Compute prediction error\n",
    "        pred = model(X)\n",
    "        loss = loss_fn(pred, y)\n",
    "\n",
    "        # Backpropagation\n",
    "        loss.backward()\n",
    "        optimizer.step()\n",
    "        optimizer.zero_grad()\n",
    "\n",
    "        if batch % 100 == 0:\n",
    "            loss, current = loss.item(), (batch + 1) * len(X)\n",
    "            print(f\"loss: {loss:>7f}  [{current:>5d}/{size:>5d}]\")\n",
    "\n",
    "def test(dataloader, model, loss_fn):\n",
    "    size = len(dataloader.dataset)\n",
    "    num_batches = len(dataloader)\n",
    "    model.eval()\n",
    "    test_loss, correct=0,0\n",
    "    with torch.no_grad():\n",
    "        for X,y in dataloader:\n",
    "            X,y = X.to(device), y.to(device)\n",
    "            pred = model(X)\n",
    "            test_loss += loss_fn(pred,y).item() #item converts tensor to number\n",
    "            # print(pred)       # has some interesting results showing how argmax\n",
    "            correct += (pred.argmax(1) ==y).type(torch.float).sum().item()\n",
    "    test_loss /= num_batches\n",
    "    correct /= size\n",
    "    print(f\"Test Error: \\n Accuracy: {(100*correct):>0.1f}%, Avg loss: {test_loss:>8f}\\n\")"
   ]
  },
  {
   "cell_type": "code",
   "execution_count": 52,
   "metadata": {},
   "outputs": [
    {
     "name": "stdout",
     "output_type": "stream",
     "text": [
      "Epoch 1\n",
      "-------------------------------\n",
      "loss: 2.303862  [   64/60000]\n",
      "loss: 2.292822  [ 6464/60000]\n",
      "loss: 2.266240  [12864/60000]\n",
      "loss: 2.258803  [19264/60000]\n",
      "loss: 2.242189  [25664/60000]\n",
      "loss: 2.220242  [32064/60000]\n",
      "loss: 2.228049  [38464/60000]\n",
      "loss: 2.200084  [44864/60000]\n",
      "loss: 2.180411  [51264/60000]\n",
      "loss: 2.156468  [57664/60000]\n",
      "Test Error: \n",
      " Accuracy: 47.7%, Avg loss: 2.149305\n",
      "\n",
      "Epoch 2\n",
      "-------------------------------\n",
      "loss: 2.157489  [   64/60000]\n",
      "loss: 2.158443  [ 6464/60000]\n",
      "loss: 2.091334  [12864/60000]\n",
      "loss: 2.106039  [19264/60000]\n",
      "loss: 2.051613  [25664/60000]\n",
      "loss: 1.998050  [32064/60000]\n",
      "loss: 2.023937  [38464/60000]\n",
      "loss: 1.948196  [44864/60000]\n",
      "loss: 1.935234  [51264/60000]\n",
      "loss: 1.873705  [57664/60000]\n",
      "Test Error: \n",
      " Accuracy: 57.0%, Avg loss: 1.871392\n",
      "\n",
      "Epoch 3\n",
      "-------------------------------\n",
      "loss: 1.897854  [   64/60000]\n",
      "loss: 1.887982  [ 6464/60000]\n",
      "loss: 1.754279  [12864/60000]\n",
      "loss: 1.795481  [19264/60000]\n",
      "loss: 1.676555  [25664/60000]\n",
      "loss: 1.636167  [32064/60000]\n",
      "loss: 1.655717  [38464/60000]\n",
      "loss: 1.556160  [44864/60000]\n",
      "loss: 1.567964  [51264/60000]\n",
      "loss: 1.471977  [57664/60000]\n",
      "Test Error: \n",
      " Accuracy: 59.9%, Avg loss: 1.490724\n",
      "\n",
      "Epoch 4\n",
      "-------------------------------\n",
      "loss: 1.551394  [   64/60000]\n",
      "loss: 1.535254  [ 6464/60000]\n",
      "loss: 1.367230  [12864/60000]\n",
      "loss: 1.445357  [19264/60000]\n",
      "loss: 1.316842  [25664/60000]\n",
      "loss: 1.324737  [32064/60000]\n",
      "loss: 1.338106  [38464/60000]\n",
      "loss: 1.260862  [44864/60000]\n",
      "loss: 1.291002  [51264/60000]\n",
      "loss: 1.199682  [57664/60000]\n",
      "Test Error: \n",
      " Accuracy: 62.7%, Avg loss: 1.227489\n",
      "\n",
      "Epoch 5\n",
      "-------------------------------\n",
      "loss: 1.297844  [   64/60000]\n",
      "loss: 1.295959  [ 6464/60000]\n",
      "loss: 1.115134  [12864/60000]\n",
      "loss: 1.229409  [19264/60000]\n",
      "loss: 1.096557  [25664/60000]\n",
      "loss: 1.134064  [32064/60000]\n",
      "loss: 1.155435  [38464/60000]\n",
      "loss: 1.087556  [44864/60000]\n",
      "loss: 1.125275  [51264/60000]\n",
      "loss: 1.049656  [57664/60000]\n",
      "Test Error: \n",
      " Accuracy: 64.1%, Avg loss: 1.072105\n",
      "\n",
      "Done!\n"
     ]
    }
   ],
   "source": [
    "epochs = 5\n",
    "for t in range(epochs):\n",
    "    print(f\"Epoch {t+1}\\n-------------------------------\")\n",
    "    train(train_dataloader, model, loss_fn, optimizer)\n",
    "    test(test_dataloader, model, loss_fn)\n",
    "print(\"Done!\")"
   ]
  }
 ],
 "metadata": {
  "kernelspec": {
   "display_name": "base",
   "language": "python",
   "name": "python3"
  },
  "language_info": {
   "codemirror_mode": {
    "name": "ipython",
    "version": 3
   },
   "file_extension": ".py",
   "mimetype": "text/x-python",
   "name": "python",
   "nbconvert_exporter": "python",
   "pygments_lexer": "ipython3",
   "version": "3.11.7"
  }
 },
 "nbformat": 4,
 "nbformat_minor": 2
}
